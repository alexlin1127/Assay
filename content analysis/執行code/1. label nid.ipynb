{
 "cells": [
  {
   "cell_type": "code",
   "execution_count": 2,
   "metadata": {},
   "outputs": [
    {
     "data": {
      "text/plain": [
       "'/Users/alex/Desktop/0511assay data測試/124 sample/情緒分析變數/label result2.xlsx'"
      ]
     },
     "execution_count": 2,
     "metadata": {},
     "output_type": "execute_result"
    }
   ],
   "source": [
    "'''\n",
    "將串連新聞的excel檔進行新聞編號nid標記，並輸出為另一個excel\n",
    "'''\n",
    "\n",
    "import pandas as pd\n",
    "\n",
    "# Load the uploaded Excel file\n",
    "file_path = '/Users/alex/Desktop/0511assay data測試/124 sample/情緒分析變數/model label result拷貝.xlsx'\n",
    "xls = pd.ExcelFile(file_path)\n",
    "\n",
    "# Load the data from the first sheet\n",
    "df = pd.read_excel(file_path)\n",
    "\n",
    "df['filter'] = 0\n",
    "counter = 0\n",
    "\n",
    "# Iterate through the 'number' column and update the 'filter' column based on the specific condition\n",
    "for index, value in df['number'].items():\n",
    "    if value == 1:\n",
    "        counter += 1\n",
    "    df.at[index, 'filter'] = counter\n",
    "\n",
    "# Save the updated dataframe back to an Excel file\n",
    "output_file_path = '/Users/alex/Desktop/0511assay data測試/124 sample/情緒分析變數/label result2.xlsx'\n",
    "df.to_excel(output_file_path, index=False)\n",
    "\n",
    "output_file_path\n"
   ]
  }
 ],
 "metadata": {
  "kernelspec": {
   "display_name": "Python 3",
   "language": "python",
   "name": "python3"
  },
  "language_info": {
   "codemirror_mode": {
    "name": "ipython",
    "version": 3
   },
   "file_extension": ".py",
   "mimetype": "text/x-python",
   "name": "python",
   "nbconvert_exporter": "python",
   "pygments_lexer": "ipython3",
   "version": "3.9.10"
  }
 },
 "nbformat": 4,
 "nbformat_minor": 2
}
